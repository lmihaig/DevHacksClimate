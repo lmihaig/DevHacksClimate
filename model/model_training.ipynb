{
 "metadata": {
  "kernelspec": {
   "language": "python",
   "display_name": "Python 3",
   "name": "python3"
  },
  "language_info": {
   "name": "python",
   "version": "3.7.12",
   "mimetype": "text/x-python",
   "codemirror_mode": {
    "name": "ipython",
    "version": 3
   },
   "pygments_lexer": "ipython3",
   "nbconvert_exporter": "python",
   "file_extension": ".py"
  }
 },
 "nbformat_minor": 4,
 "nbformat": 4,
 "cells": [
  {
   "cell_type": "code",
   "source": [
    "# This Python 3 environment comes with many helpful analytics libraries installed\n",
    "# It is defined by the kaggle/python Docker image: https://github.com/kaggle/docker-python\n",
    "# For example, here's several helpful packages to load\n",
    "\n",
    "import numpy as np # linear algebra\n",
    "import pandas as pd # data processing, CSV file I/O (e.g. pd.read_csv)\n",
    "\n",
    "from nltk.corpus import stopwords\n",
    "import pickle\n",
    "\n",
    "from collections import Counter\n",
    "\n",
    "import matplotlib.pyplot as plt\n",
    "\n",
    "import seaborn as sns\n",
    "from sklearn.feature_extraction.text import TfidfVectorizer, CountVectorizer\n",
    "from sklearn.linear_model import LogisticRegression\n",
    "from sklearn.ensemble import RandomForestClassifier\n",
    "from sklearn.svm import LinearSVC\n",
    "from sklearn.naive_bayes import ComplementNB\n",
    "from sklearn.model_selection import cross_val_score, train_test_split, StratifiedKFold, cross_validate, GridSearchCV\n",
    "from sklearn.metrics import accuracy_score, f1_score, make_scorer, precision_score, recall_score, confusion_matrix, ConfusionMatrixDisplay\n",
    "\n",
    "import spacy\n",
    "\n",
    "from spacy.language import Language\n",
    "\n",
    "from spacy_language_detection import LanguageDetector\n",
    "\n",
    "# Input data files are available in the read-only \"../input/\" directory\n",
    "# For example, running this (by clicking run or pressing Shift+Enter) will list all files under the input directory\n",
    "\n",
    "import os\n",
    "for dirname, _, filenames in os.walk('/kaggle/input'):\n",
    "    for filename in filenames:\n",
    "        print(os.path.join(dirname, filename))\n",
    "\n",
    "# You can write up to 20GB to the current directory (/kaggle/working/) that gets preserved as output when you create a version using \"Save & Run All\" \n",
    "# You can also write temporary files to /kaggle/temp/, but they won't be saved outside of the current session"
   ],
   "metadata": {
    "_uuid": "8f2839f25d086af736a60e9eeb907d3b93b6e0e5",
    "_cell_guid": "b1076dfc-b9ad-4769-8c92-a6c4dae69d19",
    "execution": {
     "iopub.status.busy": "2022-11-20T02:40:09.964327Z",
     "iopub.execute_input": "2022-11-20T02:40:09.964782Z",
     "iopub.status.idle": "2022-11-20T02:40:09.985125Z",
     "shell.execute_reply.started": "2022-11-20T02:40:09.964742Z",
     "shell.execute_reply": "2022-11-20T02:40:09.984161Z"
    },
    "trusted": true
   },
   "execution_count": 174,
   "outputs": [
    {
     "name": "stdout",
     "text": "/kaggle/input/generated-inputs/test1.csv\n/kaggle/input/generated-inputs/train1.csv\n/kaggle/input/dataaa/train2.csv\n",
     "output_type": "stream"
    }
   ]
  },
  {
   "cell_type": "code",
   "source": [
    "train = pd.read_csv('/kaggle/input/dataaa/train2.csv')\n",
    "train.drop_duplicates(subset=['name'], inplace=True)"
   ],
   "metadata": {
    "execution": {
     "iopub.status.busy": "2022-11-20T02:40:13.811187Z",
     "iopub.execute_input": "2022-11-20T02:40:13.811954Z",
     "iopub.status.idle": "2022-11-20T02:40:13.826773Z",
     "shell.execute_reply.started": "2022-11-20T02:40:13.811907Z",
     "shell.execute_reply": "2022-11-20T02:40:13.825821Z"
    },
    "trusted": true
   },
   "execution_count": 175,
   "outputs": []
  },
  {
   "cell_type": "code",
   "source": [
    "Counter(train['label'])"
   ],
   "metadata": {
    "execution": {
     "iopub.status.busy": "2022-11-20T02:32:38.872625Z",
     "iopub.execute_input": "2022-11-20T02:32:38.873720Z",
     "iopub.status.idle": "2022-11-20T02:32:38.880949Z",
     "shell.execute_reply.started": "2022-11-20T02:32:38.873670Z",
     "shell.execute_reply": "2022-11-20T02:32:38.879818Z"
    },
    "trusted": true
   },
   "execution_count": 158,
   "outputs": [
    {
     "execution_count": 158,
     "output_type": "execute_result",
     "data": {
      "text/plain": "Counter({1.0: 101, 0.0: 634})"
     },
     "metadata": {}
    }
   ]
  },
  {
   "cell_type": "code",
   "source": [
    "stop_words = stopwords.words('english')"
   ],
   "metadata": {
    "execution": {
     "iopub.status.busy": "2022-11-20T02:32:39.334995Z",
     "iopub.execute_input": "2022-11-20T02:32:39.335449Z",
     "iopub.status.idle": "2022-11-20T02:32:39.341520Z",
     "shell.execute_reply.started": "2022-11-20T02:32:39.335407Z",
     "shell.execute_reply": "2022-11-20T02:32:39.340281Z"
    },
    "trusted": true
   },
   "execution_count": 159,
   "outputs": []
  },
  {
   "cell_type": "code",
   "source": [
    "train.to_csv('/kaggle/working/train_data.csv',index=False)"
   ],
   "metadata": {
    "execution": {
     "iopub.status.busy": "2022-11-20T02:32:40.712264Z",
     "iopub.execute_input": "2022-11-20T02:32:40.712729Z",
     "iopub.status.idle": "2022-11-20T02:32:40.722235Z",
     "shell.execute_reply.started": "2022-11-20T02:32:40.712687Z",
     "shell.execute_reply": "2022-11-20T02:32:40.721009Z"
    },
    "trusted": true
   },
   "execution_count": 160,
   "outputs": []
  },
  {
   "cell_type": "code",
   "source": [
    "for text, label in zip(train.name, train.label):\n",
    "    if label not in [0, 1, 2]:\n",
    "        print(text)"
   ],
   "metadata": {
    "execution": {
     "iopub.status.busy": "2022-11-20T02:32:43.784113Z",
     "iopub.execute_input": "2022-11-20T02:32:43.784541Z",
     "iopub.status.idle": "2022-11-20T02:32:43.790184Z",
     "shell.execute_reply.started": "2022-11-20T02:32:43.784502Z",
     "shell.execute_reply": "2022-11-20T02:32:43.788991Z"
    },
    "trusted": true
   },
   "execution_count": 161,
   "outputs": []
  },
  {
   "cell_type": "markdown",
   "source": [
    "# Preprocessing"
   ],
   "metadata": {}
  },
  {
   "cell_type": "code",
   "source": [],
   "metadata": {},
   "execution_count": null,
   "outputs": []
  },
  {
   "cell_type": "code",
   "source": [
    "lemmas = []\n",
    "nlp = spacy.load('en_core_web_lg')\n",
    "for name in train.name:\n",
    "    processed_text = nlp(name)\n",
    "    lemmas.append(' '.join([token.lemma_ for token in processed_text]))"
   ],
   "metadata": {
    "execution": {
     "iopub.status.busy": "2022-11-20T02:32:46.143848Z",
     "iopub.execute_input": "2022-11-20T02:32:46.144273Z",
     "iopub.status.idle": "2022-11-20T02:32:54.322001Z",
     "shell.execute_reply.started": "2022-11-20T02:32:46.144237Z",
     "shell.execute_reply": "2022-11-20T02:32:54.320580Z"
    },
    "trusted": true
   },
   "execution_count": 162,
   "outputs": []
  },
  {
   "cell_type": "code",
   "source": [
    "\n",
    "tfidf_features = TfidfVectorizer().fit_transform(lemmas)\n",
    "vectorizer = CountVectorizer(stop_words=stop_words)\n",
    "tf_features = vectorizer.fit_transform(lemmas)\n",
    "labels = train.label"
   ],
   "metadata": {
    "execution": {
     "iopub.status.busy": "2022-11-20T02:32:54.323948Z",
     "iopub.execute_input": "2022-11-20T02:32:54.324382Z",
     "iopub.status.idle": "2022-11-20T02:32:54.356338Z",
     "shell.execute_reply.started": "2022-11-20T02:32:54.324350Z",
     "shell.execute_reply": "2022-11-20T02:32:54.355359Z"
    },
    "trusted": true
   },
   "execution_count": 163,
   "outputs": []
  },
  {
   "cell_type": "code",
   "source": [
    "models = [\n",
    "    RandomForestClassifier(n_estimators=200, max_depth=3, random_state=0),\n",
    "    # LinearSVC(max_iter=5000, class_weight='balanced'),\n",
    "    ComplementNB(),\n",
    "    LogisticRegression(random_state=0, max_iter=5000),\n",
    "    LinearSVC(C=1.5,class_weight=None,dual=True,loss='hinge',max_iter=6009,multi_class='crammer_singer',penalty='l1',random_state=21)\n",
    "    # LinearSVC(max_iter=5000, random_state=21, C=1.5,  penalty=\"l1\", dual=False, class_weight=\"balanced\")\n",
    "]\n",
    "kfold = StratifiedKFold(n_splits=5, shuffle=True, random_state=69420)\n",
    "entries = []\n",
    "_scoring = make_scorer(recall_score, average=\"weighted\")\n",
    "\n",
    "for i, model in enumerate(models):\n",
    "  model_name = f\"{model.__class__.__name__}_{i}\"\n",
    "  scores = cross_val_score(model, tf_features, labels, scoring=_scoring, cv=kfold)\n",
    "  for fold_idx, score in enumerate(scores):\n",
    "    entries.append((model_name, fold_idx, score))\n",
    "\n",
    "cv_df = pd.DataFrame(entries, columns=[\"model_name\", \"fold_idx\", \"score\"])\n",
    "sns.boxplot(x=\"model_name\", y=\"score\", data=cv_df)\n",
    "sns.stripplot(x=\"model_name\", y=\"score\", data=cv_df,\n",
    "              size=8, jitter=True, edgecolor=\"gray\", linewidth=2)\n",
    "plt.show()\n",
    "print(cv_df.groupby(\"model_name\").score.mean())"
   ],
   "metadata": {
    "execution": {
     "iopub.status.busy": "2022-11-20T02:32:54.357667Z",
     "iopub.execute_input": "2022-11-20T02:32:54.358211Z",
     "iopub.status.idle": "2022-11-20T02:32:56.417542Z",
     "shell.execute_reply.started": "2022-11-20T02:32:54.358176Z",
     "shell.execute_reply": "2022-11-20T02:32:56.416404Z"
    },
    "trusted": true
   },
   "execution_count": 164,
   "outputs": [
    {
     "output_type": "display_data",
     "data": {
      "text/plain": "<Figure size 432x288 with 1 Axes>",
      "image/png": "[encoded data removed]"
     },
     "metadata": {
      "needs_background": "light"
     }
    },
    {
     "name": "stdout",
     "text": "model_name\nComplementNB_1              0.760544\nLinearSVC_3                 0.911565\nLogisticRegression_2        0.896599\nRandomForestClassifier_0    0.862585\nName: score, dtype: float64\n",
     "output_type": "stream"
    }
   ]
  },
  {
   "cell_type": "markdown",
   "source": [
    "# LinearSVC confusion matrix - need more data"
   ],
   "metadata": {}
  },
  {
   "cell_type": "code",
   "source": [
    "vectorizer = CountVectorizer(decode_error=\"replace\",vocabulary=pickle.load(open(\"feature.pkl\", \"rb\")))"
   ],
   "metadata": {},
   "execution_count": null,
   "outputs": []
  },
  {
   "cell_type": "code",
   "source": [
    "X_train, X_test, Y_train, Y_test = train_test_split(tf_features, labels, test_size=0.3, stratify=labels, shuffle=True)\n",
    "model = LinearSVC(C=1.5,class_weight=None,dual=True,loss='hinge',max_iter=6009,multi_class='crammer_singer',penalty='l1',random_state=21)\n",
    "model.fit(X_train, Y_train)\n",
    "preds = model.predict(X_test)\n",
    "c_m = confusion_matrix(Y_test, preds, labels=model.classes_)\n",
    "disp = ConfusionMatrixDisplay(c_m, display_labels=model.classes_)\n",
    "disp.plot()\n",
    "plt.show()"
   ],
   "metadata": {
    "execution": {
     "iopub.status.busy": "2022-11-20T02:51:06.902666Z",
     "iopub.execute_input": "2022-11-20T02:51:06.903083Z",
     "iopub.status.idle": "2022-11-20T02:51:07.125775Z",
     "shell.execute_reply.started": "2022-11-20T02:51:06.903047Z",
     "shell.execute_reply": "2022-11-20T02:51:07.124848Z"
    },
    "trusted": true,
    "pycharm": {
     "is_executing": true
    }
   },
   "execution_count": null,
   "outputs": []
  },
  {
   "cell_type": "markdown",
   "source": [
    "# Saving trained model"
   ],
   "metadata": {}
  },
  {
   "cell_type": "code",
   "source": [
    "pickle.dump(vectorizer.vocabulary_, open('/kaggle/working/trained_vect.pkl', 'wb'))"
   ],
   "metadata": {
    "execution": {
     "iopub.status.busy": "2022-11-20T02:33:09.982487Z",
     "iopub.execute_input": "2022-11-20T02:33:09.982913Z",
     "iopub.status.idle": "2022-11-20T02:33:09.989414Z",
     "shell.execute_reply.started": "2022-11-20T02:33:09.982876Z",
     "shell.execute_reply": "2022-11-20T02:33:09.988162Z"
    },
    "trusted": true
   },
   "execution_count": 166,
   "outputs": []
  },
  {
   "cell_type": "code",
   "source": [
    "pickle.dump(model, open('/kaggle/working/trained_model.pkl', 'wb'))"
   ],
   "metadata": {
    "execution": {
     "iopub.status.busy": "2022-11-20T02:33:10.280923Z",
     "iopub.execute_input": "2022-11-20T02:33:10.281307Z",
     "iopub.status.idle": "2022-11-20T02:33:10.286617Z",
     "shell.execute_reply.started": "2022-11-20T02:33:10.281276Z",
     "shell.execute_reply": "2022-11-20T02:33:10.285755Z"
    },
    "trusted": true
   },
   "execution_count": 167,
   "outputs": []
  },
  {
   "cell_type": "markdown",
   "source": [
    "# Hyperparameter tuning"
   ],
   "metadata": {}
  },
  {
   "cell_type": "code",
   "source": [
    "model = LinearSVC()\n",
    "params = {  \"penalty\": [\"l1\",\"l2\"],\n",
    "            \"dual\": [True, False],\n",
    "            \"max_iter\": [6009],\n",
    "            \"C\": [0.5, 1, 1.5, 5],\n",
    "            \"loss\": ['hinge', 'squared_hinge'],\n",
    "            \"multi_class\": [\"ovr\", \"crammer_singer\"],\n",
    "            \"class_weight\": [\"balanced\", None],\n",
    "            \"random_state\": [21]\n",
    "} \n",
    "clf = GridSearchCV(model, params, scoring=_scoring, cv=kfold, return_train_score=True, n_jobs=-1, verbose=2)\n",
    "clf.fit(tf_features, labels)"
   ],
   "metadata": {
    "trusted": true
   },
   "execution_count": null,
   "outputs": []
  },
  {
   "cell_type": "code",
   "source": [
    "clf.best_params_\n"
   ],
   "metadata": {
    "execution": {
     "iopub.status.busy": "2022-11-20T02:11:03.501705Z",
     "iopub.execute_input": "2022-11-20T02:11:03.502153Z",
     "iopub.status.idle": "2022-11-20T02:11:03.511185Z",
     "shell.execute_reply.started": "2022-11-20T02:11:03.502115Z",
     "shell.execute_reply": "2022-11-20T02:11:03.510024Z"
    },
    "trusted": true
   },
   "execution_count": 126,
   "outputs": [
    {
     "execution_count": 126,
     "output_type": "execute_result",
     "data": {
      "text/plain": "{'C': 1.5,\n 'class_weight': None,\n 'dual': True,\n 'loss': 'hinge',\n 'max_iter': 6009,\n 'multi_class': 'crammer_singer',\n 'penalty': 'l1',\n 'random_state': 21}"
     },
     "metadata": {}
    }
   ]
  }
 ]
}
